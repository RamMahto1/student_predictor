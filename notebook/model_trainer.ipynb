{
 "cells": [
  {
   "cell_type": "code",
   "execution_count": 3,
   "id": "7b688448-a920-46c2-af13-4b6a316e33e3",
   "metadata": {},
   "outputs": [],
   "source": [
    "## importing library\n",
    "import pandas as pd\n",
    "import numpy as np\n",
    "from sklearn.model_selection import train_test_split\n",
    "from sklearn.metrics import r2_score,mean_squared_error,mean_absolute_error\n",
    "from sklearn.preprocessing import StandardScaler,OneHotEncoder\n",
    "from sklearn.pipeline import Pipeline\n",
    "from sklearn.impute import SimpleImputer\n",
    "from sklearn.compose import ColumnTransformer\n",
    "from sklearn.ensemble import RandomForestRegressor\n",
    "import pickle"
   ]
  },
  {
   "cell_type": "code",
   "execution_count": 4,
   "id": "01ee175c-39e5-4bef-bf72-7525428a9317",
   "metadata": {},
   "outputs": [],
   "source": [
    "    class Student_Predictor:\n",
    "        def __init__(self,filepath,target_feature):\n",
    "            self.filepath = filepath\n",
    "            self.target_feature = target_feature\n",
    "            self.model = None\n",
    "            self.df = None\n",
    "            self.X_train = None\n",
    "            self.X_test = None\n",
    "            self.y_train = None\n",
    "            self.y_test = None\n",
    "    \n",
    "        def load_data(self):\n",
    "            self.df = pd.read_csv(self.filepath)\n",
    "            print(\"Data loaded sucessfully\")\n",
    "    \n",
    "        def preprocessor(self):\n",
    "            self.df.fillna(0,inplace=True)\n",
    "            X = self.df.drop(self.target_feature,axis=1)\n",
    "            y = self.df[self.target_feature]\n",
    "            numerical_feature = X.select_dtypes(include=['int64']).columns\n",
    "            categorical_feature = X.select_dtypes(include=['object']).columns\n",
    "            self.X_train,self.X_test, self.y_train,self.y_test = train_test_split(X,y,test_size=0.20, random_state=42)\n",
    "            num_pipeline = Pipeline(\n",
    "                steps=[\n",
    "                    ('imputer',SimpleImputer(strategy='median')),\n",
    "                    ('scaler',StandardScaler())\n",
    "                ]\n",
    "            )\n",
    "            cat_pipeline = Pipeline(\n",
    "                steps=[\n",
    "                    (\"imputer\",SimpleImputer(strategy='most_frequent')),\n",
    "                    (\"one_hot_encoder\",OneHotEncoder(handle_unknown='ignore'))\n",
    "                ]\n",
    "            )\n",
    "            preprocessor = ColumnTransformer(\n",
    "                [\n",
    "                    (\"num\",num_pipeline,numerical_feature),\n",
    "                    (\"cat\",cat_pipeline,categorical_feature)\n",
    "                ]\n",
    "            )\n",
    "            self.X_train = preprocessor.fit_transform(self.X_train)\n",
    "            self.X_test = preprocessor.transform(self.X_test)\n",
    "            self.preprocessor = preprocessor\n",
    "            print(\"preprocessor sucessfully completed\")\n",
    "    \n",
    "        def model_trainer(self):\n",
    "            self.model = RandomForestRegressor()\n",
    "            self.model = self.model.fit(self.X_train,self.y_train)\n",
    "            print(\"model trained successfully\")\n",
    "    \n",
    "        def evaluate_model(self):\n",
    "            prediction = self.model.predict(self.X_test)\n",
    "            r2 = r2_score(self.y_test,prediction)\n",
    "            mse = mean_squared_error(self.y_test,prediction)\n",
    "            mae = mean_absolute_error(self.y_test,prediction)\n",
    "            print(f\"r2 score:{r2}\")\n",
    "            print(f\"Mean square error: {mse}\")\n",
    "            print(f\"Mean absolute error:{mae}\")\n",
    "    \n",
    "    \n",
    "            ## saved model and preprocessor\n",
    "        def saved_model(self,model_path='model.pkl',preprocessor_path='preprocessor.pkl'):\n",
    "            with open(model_path,'wb') as model_file:\n",
    "                pickle.dump(self.model, model_file)\n",
    "    \n",
    "            with open(preprocessor_path,'wb') as preprocessor_file:\n",
    "                pickle.dump(self.preprocessor, preprocessor_file)\n",
    "                print(\"saved model and preprocessor\")\n",
    "                \n",
    "    \n",
    "            ## load model and precessor \n",
    "        def load_model(self,model_path='model.pkl',preprocessor_path='preprocessor.pkl'):\n",
    "            with open(model_path,'rb') as model_file:\n",
    "                self.model = pickle.load(model_file)\n",
    "    \n",
    "            with open(preprocessor_path,'rb') as preprocessor_file:\n",
    "                self.preprocessor = pickle.load(preprocessor_file)\n",
    "        def predict_new_data(self, new_data):\n",
    "            new_data_df = pd.DataFrame(new_data)\n",
    "            transformer_preprocessor = self.preprocessor.transform(new_data_df)\n",
    "            prediction = self.model.predict(transformer_preprocessor)\n",
    "            print(f\"Prediction with new data: {prediction}\")\n",
    "    \n",
    "    \n",
    "    \n",
    "# After model is trained and loaded:\n",
    "new_data = {\n",
    "    'gender': ['Male'],\n",
    "    'race_ethnicity': ['group C'],\n",
    "    'parental_level_of_education': ['high school'],\n",
    "    'lunch': ['standard'],\n",
    "    'test_preparation_course': ['none'],\n",
    "    'reading_score': [300],\n",
    "    'writing_score': [70]}\n",
    "    \n",
    "        \n",
    "        \n",
    "    \n",
    "    \n",
    "            \n"
   ]
  },
  {
   "cell_type": "code",
   "execution_count": 5,
   "id": "7d7854cd-0fa2-43d0-b204-2c590f982e56",
   "metadata": {
    "scrolled": true
   },
   "outputs": [
    {
     "name": "stdout",
     "output_type": "stream",
     "text": [
      "Data loaded sucessfully\n",
      "preprocessor sucessfully completed\n",
      "model trained successfully\n",
      "r2 score:0.8538559177146814\n",
      "Mean square error: 35.56246715277778\n",
      "Mean absolute error:4.635891666666667\n",
      "Prediction with new data: [85.15]\n"
     ]
    }
   ],
   "source": [
    "obj = Student_Predictor(filepath=\"StudentsPer.csv\",target_feature=\"math_score\")\n",
    "obj.load_data()\n",
    "obj.preprocessor()\n",
    "obj.model_trainer()\n",
    "obj.evaluate_model()\n",
    "#obj.saved_model()\n",
    "#obj.load_model()\n",
    "obj.predict_new_data(new_data)"
   ]
  },
  {
   "cell_type": "code",
   "execution_count": 59,
   "id": "163a1aa1-6e94-44f0-a8df-ea6b6d9caf6c",
   "metadata": {},
   "outputs": [
    {
     "name": "stdout",
     "output_type": "stream",
     "text": [
      "   gender race_ethnicity parental_level_of_education  ... math_score reading_score  writing_score\n",
      "0  female        group B           bachelor's degree  ...         72            72             74\n",
      "1  female        group C                some college  ...         69            90             88\n",
      "2  female        group B             master's degree  ...         90            95             93\n",
      "3    male        group A          associate's degree  ...         47            57             44\n",
      "4    male        group C                some college  ...         76            78             75\n",
      "\n",
      "[5 rows x 8 columns]\n"
     ]
    },
    {
     "data": {
      "text/plain": [
       "standard        645\n",
       "free/reduced    355\n",
       "Name: lunch, dtype: int64"
      ]
     },
     "execution_count": 59,
     "metadata": {},
     "output_type": "execute_result"
    }
   ],
   "source": [
    "print(obj.df.head())\n",
    "obj.df['lunch'].value_counts()"
   ]
  },
  {
   "cell_type": "code",
   "execution_count": null,
   "id": "27328107-c050-41cf-8164-9f7138436134",
   "metadata": {},
   "outputs": [],
   "source": []
  }
 ],
 "metadata": {
  "kernelspec": {
   "display_name": "Python 3 (ipykernel)",
   "language": "python",
   "name": "python3"
  },
  "language_info": {
   "codemirror_mode": {
    "name": "ipython",
    "version": 3
   },
   "file_extension": ".py",
   "mimetype": "text/x-python",
   "name": "python",
   "nbconvert_exporter": "python",
   "pygments_lexer": "ipython3",
   "version": "3.9.12"
  }
 },
 "nbformat": 4,
 "nbformat_minor": 5
}
